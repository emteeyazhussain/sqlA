{
 "cells": [
  {
   "cell_type": "code",
   "execution_count": 1,
   "id": "5bc4911a-ba42-4158-9765-d8873ca4a041",
   "metadata": {},
   "outputs": [
    {
     "data": {
      "text/plain": [
       "'A database is a collection of structured data that is organized and stored in a way that enables efficient data retrieval,\\nmanagement, and manipulation. Databases can be used for a variety of purposes, including storing and managing information \\nfor businesses, scientific research, and web applications.\\n\\nThere are two main types of databases: SQL and NoSQL.\\n\\nSQL (Structured Query Language) databases are relational databases that store data in tables and use SQL to manipulate and\\nretrieve data. In SQL databases, data is typically structured into tables with fixed columns and rows, and relationships \\nbetween tables are defined by foreign keys. Some examples of SQL databases include MySQL, Oracle, and PostgreSQL.\\n\\nNoSQL (Not Only SQL) databases are non-relational databases that store data in a more flexible and scalable way than SQL \\ndatabases. NoSQL databases can be document-based, graph-based, key-value, or column-based, among other types. NoSQL \\ndatabases are often used in big data applications, real-time web applications, and other use cases where scalability\\nand flexibility are important. Some examples of NoSQL databases include MongoDB, Cassandra, and Redis.\\n\\nThe main difference between SQL and NoSQL databases is their data model and how they store and retrieve data. SQL \\ndatabases use a fixed schema with structured data, while NoSQL databases are schema-less and can store unstructured \\nor semi-structured data. SQL databases are more suited for transactional and data-intensive applications, while NoSQL\\ndatabases are better suited for real-time, high-velocity data processing and big data applications.'"
      ]
     },
     "execution_count": 1,
     "metadata": {},
     "output_type": "execute_result"
    }
   ],
   "source": [
    "# Q1.\n",
    "\"\"\"A database is a collection of structured data that is organized and stored in a way that enables efficient data retrieval,\n",
    "management, and manipulation. Databases can be used for a variety of purposes, including storing and managing information \n",
    "for businesses, scientific research, and web applications.\n",
    "\n",
    "There are two main types of databases: SQL and NoSQL.\n",
    "\n",
    "SQL (Structured Query Language) databases are relational databases that store data in tables and use SQL to manipulate and\n",
    "retrieve data. In SQL databases, data is typically structured into tables with fixed columns and rows, and relationships \n",
    "between tables are defined by foreign keys. Some examples of SQL databases include MySQL, Oracle, and PostgreSQL.\n",
    "\n",
    "NoSQL (Not Only SQL) databases are non-relational databases that store data in a more flexible and scalable way than SQL \n",
    "databases. NoSQL databases can be document-based, graph-based, key-value, or column-based, among other types. NoSQL \n",
    "databases are often used in big data applications, real-time web applications, and other use cases where scalability\n",
    "and flexibility are important. Some examples of NoSQL databases include MongoDB, Cassandra, and Redis.\n",
    "\n",
    "The main difference between SQL and NoSQL databases is their data model and how they store and retrieve data. SQL \n",
    "databases use a fixed schema with structured data, while NoSQL databases are schema-less and can store unstructured \n",
    "or semi-structured data. SQL databases are more suited for transactional and data-intensive applications, while NoSQL\n",
    "databases are better suited for real-time, high-velocity data processing and big data applications.\"\"\"\n"
   ]
  },
  {
   "cell_type": "code",
   "execution_count": 2,
   "id": "d6f99115-5a83-447a-9b46-aa2975ae4e15",
   "metadata": {},
   "outputs": [
    {
     "data": {
      "text/plain": [
       "'# DDL stands for Data Definition Language. It is a subset of SQL (Structured Query Language) used to create, modify, and\\n# delete the structure of database objects such as tables, indexes, and views.\\n\\n# The following are the most commonly used DDL commands:\\n\\n# CREATE: The CREATE command is used to create a new table, view, or other database object. For example, to create a new table\\n# called \"customers\" with columns \"id\", \"name\", and \"email\", the following SQL query can be used:\\n\\n# code:\\n#     CREATE TABLE customers (\\n#   id INT PRIMARY KEY,\\n#   name VARCHAR(50),\\n#   email VARCHAR(50)\\n# );\\n\\n\\n# ALTER: The ALTER command is used to modify the structure of an existing database object. For example, to add a new column\\n# called \"address\" to the \"customers\" table, the following SQL query can be used:\\n\\n# code: ALTER TABLE customers ADD COLUMN address VARCHAR(100);\\n\\n# DROP: The DROP command is used to delete an existing database object. For example, to delete the \"customers\" table,\\n# the following SQL query can be used:\\n\\n# code: DROP TABLE customers;\\n\\n# TRUNCATE: The TRUNCATE command is used to remove all data from a table, while preserving the table structure. For example,\\n# to remove all data from the \"customers\" table, the following SQL query can be used:\\n\\n# code: TRUNCATE TABLE customers;'"
      ]
     },
     "execution_count": 2,
     "metadata": {},
     "output_type": "execute_result"
    }
   ],
   "source": [
    "# Q2.\n",
    "\n",
    "\"\"\"# DDL stands for Data Definition Language. It is a subset of SQL (Structured Query Language) used to create, modify, and\n",
    "# delete the structure of database objects such as tables, indexes, and views.\n",
    "\n",
    "# The following are the most commonly used DDL commands:\n",
    "\n",
    "# CREATE: The CREATE command is used to create a new table, view, or other database object. For example, to create a new table\n",
    "# called \"customers\" with columns \"id\", \"name\", and \"email\", the following SQL query can be used:\n",
    "\n",
    "# code:\n",
    "#     CREATE TABLE customers (\n",
    "#   id INT PRIMARY KEY,\n",
    "#   name VARCHAR(50),\n",
    "#   email VARCHAR(50)\n",
    "# );\n",
    "\n",
    "\n",
    "# ALTER: The ALTER command is used to modify the structure of an existing database object. For example, to add a new column\n",
    "# called \"address\" to the \"customers\" table, the following SQL query can be used:\n",
    "\n",
    "# code: ALTER TABLE customers ADD COLUMN address VARCHAR(100);\n",
    "\n",
    "# DROP: The DROP command is used to delete an existing database object. For example, to delete the \"customers\" table,\n",
    "# the following SQL query can be used:\n",
    "\n",
    "# code: DROP TABLE customers;\n",
    "\n",
    "# TRUNCATE: The TRUNCATE command is used to remove all data from a table, while preserving the table structure. For example,\n",
    "# to remove all data from the \"customers\" table, the following SQL query can be used:\n",
    "\n",
    "# code: TRUNCATE TABLE customers;\"\"\"\n",
    "\n",
    "\n"
   ]
  },
  {
   "cell_type": "code",
   "execution_count": 5,
   "id": "f10b1790-de77-45c9-bb95-48b5579b4a47",
   "metadata": {},
   "outputs": [
    {
     "data": {
      "text/plain": [
       "'DML stands for Data Manipulation Language and is a subset of SQL (Structured Query Language) used to manipulate data in a\\ndatabase. There are three main DML operations: INSERT, UPDATE, and DELETE.\\n\\nINSERT: The INSERT statement is used to add a new row of data into a table. The basic syntax for INSERT statement is:\\n    \\n    For example, to insert a new record into a table called \"customers\" with columns \"id\", \"name\", and \"email\", the syntax\\n    would be:\\n    \\n    code :_ INSERT INTO customers (id, name, email)\\n            VALUES (1, \\'John Doe\\', \\'john.doe@example.com\\');\\n\\n\\nUPDATE: The UPDATE statement is used to modify existing records in a table. The basic syntax for the UPDATE statement is:\\n    \\n    \\nFor example, to update the name of the customer with id 1 to \"Jane Doe\", the syntax would be:\\n    \\n    \\n      code:_  UPDATE customers\\n             SET name = \\'Jane Doe\\'\\n             WHERE id = 1;\\n\\n                \\nDELETE: The DELETE statement is used to delete one or more records from a table. The basic syntax for the DELETE statement is:\\n  \\n   For example, to delete the record for the customer with id 1, the syntax would be:\\n  \\n   code:- DELETE FROM customers\\n          WHERE id = 1;\\n\\n\\n                                                                                                                         '"
      ]
     },
     "execution_count": 5,
     "metadata": {},
     "output_type": "execute_result"
    }
   ],
   "source": [
    "# Q3,\n",
    "\"\"\"DML stands for Data Manipulation Language and is a subset of SQL (Structured Query Language) used to manipulate data in a\n",
    "database. There are three main DML operations: INSERT, UPDATE, and DELETE.\n",
    "\n",
    "INSERT: The INSERT statement is used to add a new row of data into a table. The basic syntax for INSERT statement is:\n",
    "    \n",
    "    For example, to insert a new record into a table called \"customers\" with columns \"id\", \"name\", and \"email\", the syntax\n",
    "    would be:\n",
    "    \n",
    "    code :_ INSERT INTO customers (id, name, email)\n",
    "            VALUES (1, 'John Doe', 'john.doe@example.com');\n",
    "\n",
    "\n",
    "UPDATE: The UPDATE statement is used to modify existing records in a table. The basic syntax for the UPDATE statement is:\n",
    "    \n",
    "    \n",
    "For example, to update the name of the customer with id 1 to \"Jane Doe\", the syntax would be:\n",
    "    \n",
    "    \n",
    "      code:_  UPDATE customers\n",
    "             SET name = 'Jane Doe'\n",
    "             WHERE id = 1;\n",
    "\n",
    "                \n",
    "DELETE: The DELETE statement is used to delete one or more records from a table. The basic syntax for the DELETE statement is:\n",
    "  \n",
    "   For example, to delete the record for the customer with id 1, the syntax would be:\n",
    "  \n",
    "   code:- DELETE FROM customers\n",
    "          WHERE id = 1;\n",
    "\n",
    "\n",
    "                                                                                                                         \"\"\"\n",
    "    "
   ]
  },
  {
   "cell_type": "code",
   "execution_count": 7,
   "id": "e13ee5ce-d7bc-4f54-b901-7c235795413a",
   "metadata": {},
   "outputs": [
    {
     "data": {
      "text/plain": [
       "'DQL stands for Data Query Language, which is a subset of SQL (Structured Query Language) used to retrieve data from a database.\\nThe main DQL operation is SELECT, which is used to fetch data from one or more tables. The SELECT statement is used to specify\\nthe columns that need to be retrieved and the conditions to filter the results. Here\\'s an example of how to use the SELECT \\nstatement:\\n\\nSuppose we have a table called \"customers\" with columns \"id\", \"name\", \"email\", \"phone\", and \"city\". To select all the data \\nfrom this table, we would use the following SELECT statement:\\n    \\n  code:_  SELECT name, email FROM customers; '"
      ]
     },
     "execution_count": 7,
     "metadata": {},
     "output_type": "execute_result"
    }
   ],
   "source": [
    "# Q4.\n",
    "\"\"\"DQL stands for Data Query Language, which is a subset of SQL (Structured Query Language) used to retrieve data from a database.\n",
    "The main DQL operation is SELECT, which is used to fetch data from one or more tables. The SELECT statement is used to specify\n",
    "the columns that need to be retrieved and the conditions to filter the results. Here's an example of how to use the SELECT \n",
    "statement:\n",
    "\n",
    "Suppose we have a table called \"customers\" with columns \"id\", \"name\", \"email\", \"phone\", and \"city\". To select all the data \n",
    "from this table, we would use the following SELECT statement:\n",
    "    \n",
    "  code:_  SELECT name, email FROM customers; \"\"\"\n"
   ]
  },
  {
   "cell_type": "code",
   "execution_count": 8,
   "id": "fbec761d-0091-4c65-aaad-a68d7882a8f3",
   "metadata": {},
   "outputs": [],
   "source": [
    "# Q5.-\n",
    "# In SQL (Structured Query Language), a primary key and a foreign key are used to establish relationships between different tables\n",
    "# in a database.\n",
    "\n",
    "# A primary key is a column or a set of columns in a table that uniquely identifies each row in the table. This means that no two \n",
    "# rows in the table can have the same value for the primary key. The primary key is used to ensure data integrity and to allow for\n",
    "# efficient searching and sorting of data.\n",
    "\n",
    "# A foreign key, on the other hand, is a column or a set of columns in a table that refers to the primary key of another table.\n",
    "# The foreign key establishes a relationship between two tables, allowing data to be retrieved from one table based on data in \n",
    "# another table. This is done by creating a \"link\" between the two tables, where the foreign key in one table refers to the \n",
    "# primary key in another table.\n",
    "\n",
    "# For example, consider two tables, one for \"customers\" and another for \"orders\". The \"customers\" table may have a primary key \n",
    "# of \"customer_id\", while the \"orders\" table may have a foreign key of \"customer_id\" that refers to the \"customer_id\" column in\n",
    "# the \"customers\" table. This allows data from the \"customers\" table to be retrieved based on data in the \"orders\" table, such \n",
    "# as the name or address of the customer who placed an order\n",
    "\n",
    "\n",
    "\n",
    "\n",
    "\n",
    "\n"
   ]
  },
  {
   "cell_type": "code",
   "execution_count": 14,
   "id": "fa5a0664-6ab8-48ea-92f0-5cb466b83bfa",
   "metadata": {},
   "outputs": [
    {
     "data": {
      "text/plain": [
       "'The cursor object is used to execute SQL commands, and the execute() method is used to send a SQL command to the database\\nserver. '"
      ]
     },
     "execution_count": 14,
     "metadata": {},
     "output_type": "execute_result"
    }
   ],
   "source": [
    "# Q6.\n",
    "\n",
    "# To connect MySQL to Python, you can use the PyMySQL library. Here's an example code that connects to a MySQL database and \n",
    "# demonstrates the use of the cursor and execute method:\n",
    "  \n",
    "# code:----\n",
    "\n",
    "# import pymysql\n",
    "\n",
    "# # Connect to the database\n",
    "# connection = pymysql.connect(host='localhost',\n",
    "#                              user='username',\n",
    "#                              password='password',\n",
    "#                              db='database_name',\n",
    "#                              charset='utf8mb4',\n",
    "#                              cursorclass=pymysql.cursors.DictCursor)\n",
    "\n",
    "# # Create a cursor object\n",
    "# cursor = connection.cursor()\n",
    "\n",
    "# # Execute a SQL query\n",
    "# sql = \"SELECT * FROM mytable\"\n",
    "# cursor.execute(sql)\n",
    "\n",
    "# # Fetch the results\n",
    "# results = cursor.fetchall()\n",
    "\n",
    "# # Print the results\n",
    "# for row in results:\n",
    "#     print(row)\n",
    "\n",
    "# # Close the connection\n",
    "# connection.close()\n",
    "\n",
    "\n",
    "\n",
    "\"\"\"The cursor object is used to execute SQL commands, and the execute() method is used to send a SQL command to the database\n",
    "server. \"\"\"\n",
    "    \n",
    "\n"
   ]
  },
  {
   "cell_type": "code",
   "execution_count": 10,
   "id": "86eb9be3-e288-4701-9a3c-72fb7f6a2fa5",
   "metadata": {},
   "outputs": [],
   "source": [
    "#Q7. \n",
    "\n",
    "# In SQL, the order of execution of clauses in a query is as follows:\n",
    "\n",
    "# >>-- FROM clause: This clause specifies the table or tables from which to retrieve data.\n",
    "\n",
    "#  >>-- WHERE clause: This clause filters the data based on a specified condition.\n",
    "\n",
    "#  >>--GROUP BY clause: This clause groups the data based on one or more columns.\n",
    "\n",
    "#  >>--HAVING clause: This clause filters the grouped data based on a specified condition.\n",
    "\n",
    "#  >>--SELECT clause: This clause selects the columns to be included in the result set.\n",
    "\n",
    "#  >>--ORDER BY clause: This clause sorts the result set based on one or more columns.\n",
    "\n",
    "#  >>--LIMIT clause: This clause limits the number of rows returned by the query."
   ]
  }
 ],
 "metadata": {
  "kernelspec": {
   "display_name": "Python 3 (ipykernel)",
   "language": "python",
   "name": "python3"
  },
  "language_info": {
   "codemirror_mode": {
    "name": "ipython",
    "version": 3
   },
   "file_extension": ".py",
   "mimetype": "text/x-python",
   "name": "python",
   "nbconvert_exporter": "python",
   "pygments_lexer": "ipython3",
   "version": "3.10.8"
  }
 },
 "nbformat": 4,
 "nbformat_minor": 5
}
